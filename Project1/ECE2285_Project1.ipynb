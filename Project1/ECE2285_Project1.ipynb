{
 "cells": [
  {
   "cell_type": "code",
   "execution_count": 1,
   "metadata": {},
   "outputs": [],
   "source": [
    "# Zener Diode Voltage Regulator\n",
    "\n",
    "import math\n",
    "import matplotlib.pyplot as plt\n",
    "import numpy as np\n"
   ]
  },
  {
   "cell_type": "markdown",
   "metadata": {},
   "source": [
    "<h2>When the Load Resistor R_L Disconnected</h2>\n",
    "\n",
    "<h3>Current Calculations</h3>\n",
    "<ul>\n",
    "    <li><p>When the load resistor is connected, the current through the load resistor should remain 10 mA,\n",
    "    and the current through the Zener diode should ideally be 5 mA, but can conduct at a current as low as 1 mA and as high as 9 mA.</p></li>\n",
    "    <li><p>When the load resistor is not connected, the 10 mA that would otherwise flow through the load resistor would increase the current through\n",
    "    the Zener diode by 10 mA. Therefore, the maximum current through the Zener diode when the load resistor is not connected is 19 mA.</p></li>\n",
    "    <li><p>A maximum current through the Zener diode of 19 mA is still less than the maximum specified in the data sheet of 20 mA.</p></li>\n",
    "</ul>\n",
    "<h3>Power Calculations</h3>\n",
    "<ul>\n",
    "    <li><p>Moreover, if the current through the Zener diode is 19 mA, the power dissipated by the Zener diode would then be calculated as P_max = I * V.</p></li>\n",
    "    <li><p>P_max = 19 mA * 10 V = 190 mW. 190 mW is less than the maximum specfified power of 250 mW.</p></li>\n",
    "</ul>"
   ]
  },
  {
   "cell_type": "code",
   "execution_count": 2,
   "metadata": {},
   "outputs": [],
   "source": [
    "# Choosing R1 and C values from current calculations\n",
    "\n",
    "# Constants\n",
    "R_L = 1000  # [Ohms]\n",
    "f = 60      # [Hz]\n",
    "T = 1 / f   # [s]\n",
    "V_D = 0.8   # [V] voltage of diodes in the wheatstone bridge\n",
    "\n",
    "# Conditions for voltage of Zener diode at I_ZK = 5 mA\n",
    "V_z = 10\n",
    "V_z_min = 9.4\n",
    "V_z_max = 10.6\n",
    "\n",
    "# Zener Diode Currents\n",
    "I_Z0 = 5 * 10 ** -3             # Ideal given operating current:   5 mA\n",
    "I_ZT2 = 1 * 10 ** -3            # Minimum given operating current: 1 mA \n",
    "I_ZT3 = 20 * 10 ** -3           # Maximum given operating current: 20 mA\n",
    "deltaI = abs(I_Z0 - I_ZT2)      # Calculated deviation with s.f. +- 4 mA from ideal \n",
    "I_Z_Min = I_ZT2                 # Minimum calculated IZ current = 1 mA\n",
    "I_Z_Max = I_Z0 + deltaI         # Maximum calculated w s.f. IZ = 9 mA\n",
    "\n",
    "# Current Calculations\n",
    "I_L = V_z / R_L         # 10 mA\n",
    "I_Z_ideal = I_Z0        # 5 mA\n",
    "I_in = I_Z_ideal + I_L  # 15 mA\n",
    "\n",
    "# ------------ Calculating R1 as a function of V_in_mid ------------------------\n",
    "# Generally R1 = (V_in_mid - V_z) / I_in\n",
    "\n",
    "# Conditions for V_in [V]\n",
    "V_in_pk = 15.4                  # V_in_pk: 15.4 V\n",
    "deltaV_in = 1.136               # Calculated deviation deltaV_in: 1.136 V\n",
    "V_in_max = 15.4 + deltaV_in     # V_in_max: 16.536 V\n",
    "V_in_min = 15.4 - deltaV_in     # V_in_min: 14.234 V\n"
   ]
  },
  {
   "cell_type": "code",
   "execution_count": 4,
   "metadata": {},
   "outputs": [
    {
     "name": "stdout",
     "output_type": "stream",
     "text": [
      "\n",
      "R1 = 435.733 Ohms when V_in = 16.536 V\n",
      "C = 0.000021556840 F when R1 = 435.733 Ohms\n"
     ]
    }
   ],
   "source": [
    "# Plotting Voltage Across Capacitor as a Function of Time Using Integration (Method 2 in lab sheet)\n",
    "\n",
    "# Calculating R1 when V_in is at a maximum\n",
    "R1_small = (V_in_max - V_z) / I_in\n",
    "print(f\"\\nR1 = {R1_small:0.3f} Ohms when V_in = {V_in_max:0.3f} V\")\n",
    "\n",
    "# Calculting R_TH when I_Z = 5 mA, I_L = 10 mA, I_in = 10 mA. Valid for V_Z in range of [9.4, 10.6] V.\n",
    "R_Z = 20  # r_z = 20 Ohms @ I_Z = 5 mA\n",
    "\n",
    "# R_TH = R1 + (R_Z||R_L)\n",
    "R_TH = R1_small + ((R_Z * R_L) / (R_Z + R_L))\n",
    "\n",
    "# Define equation for current across capacitor C\n",
    "term1 = -1 / (120 * R_TH)\n",
    "term2 = 1 / (np.log(1 - ( ( (2 * deltaV_in) / (V_in_pk - 2*V_D - V_z) ) *(R1_small / R_TH) )))\n",
    "C_1 = term1 * term2\n",
    "C_1 *= 10**6  # Express in uF\n",
    "\n",
    "print(f\"C = {C_1:0.6f} microF when R1 = {R1_small:0.3f} Ohms\")"
   ]
  },
  {
   "cell_type": "code",
   "execution_count": null,
   "metadata": {},
   "outputs": [],
   "source": [
    "# Calculating R1 when V_in is at a minimum\n",
    "R1_large = (V_in_min - V_z) / I_in\n",
    "print(f\"\\nR1 = {R1_large:0.3f} Ohms when V_in = {V_in_min:0.3f} V\")"
   ]
  }
 ],
 "metadata": {
  "kernelspec": {
   "display_name": "JW_VENV",
   "language": "python",
   "name": "python3"
  },
  "language_info": {
   "codemirror_mode": {
    "name": "ipython",
    "version": 3
   },
   "file_extension": ".py",
   "mimetype": "text/x-python",
   "name": "python",
   "nbconvert_exporter": "python",
   "pygments_lexer": "ipython3",
   "version": "3.11.5"
  }
 },
 "nbformat": 4,
 "nbformat_minor": 2
}
