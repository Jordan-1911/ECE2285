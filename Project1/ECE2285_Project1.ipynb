{
 "cells": [
  {
   "cell_type": "code",
   "execution_count": 64,
   "metadata": {},
   "outputs": [],
   "source": [
    "# Zener Diode Voltage Regulator\n",
    "\n",
    "from scipy.integrate import quad\n",
    "import matplotlib.pyplot as plt\n",
    "import numpy as np\n"
   ]
  },
  {
   "cell_type": "markdown",
   "metadata": {},
   "source": [
    "<h2>When the Load Resistor R_L Disconnected</h2>\n",
    "\n",
    "<h3>Current Calculations</h3>\n",
    "<ul>\n",
    "    <li><p>When the load resistor is connected, the current through the load resistor should remain 10 mA,\n",
    "    and the current through the Zener diode should ideally be 5 mA, but can conduct at a current as low as 1 mA and as high as 9 mA.</p></li>\n",
    "    <li><p>When the load resistor is not connected, the 10 mA that would otherwise flow through the load resistor would increase the current through\n",
    "    the Zener diode by 10 mA. Therefore, the maximum current through the Zener diode when the load resistor is not connected is 19 mA.</p></li>\n",
    "    <li><p>A maximum current through the Zener diode of 19 mA is still less than the maximum specified in the data sheet of 20 mA.</p></li>\n",
    "</ul>\n",
    "<h3>Power Calculations</h3>\n",
    "<ul>\n",
    "    <li><p>Moreover, if the current through the Zener diode is 19 mA, the power dissipated by the Zener diode would then be calculated as P_max = I * V.</p></li>\n",
    "    <li><p>P_max = 19 mA * 10 V = 190 mW. 190 mW is less than the maximum specfified power of 250 mW.</p></li>\n",
    "</ul>"
   ]
  },
  {
   "cell_type": "code",
   "execution_count": 66,
   "metadata": {},
   "outputs": [
    {
     "name": "stdout",
     "output_type": "stream",
     "text": [
      "Calculations based on V_in = 14.264 V, I_in = 15.00 mA, V_Z = 10\n",
      "R1 = 284.267 Ohms\n",
      "R_TH = 303.875 Ohms\n",
      "\n",
      "Method 1: C = 49.031 uF\n",
      "Method 2 (my integral calcualtions): C = 28.761 uF\n",
      "Method 3: Calculting C from scipy C = 31.605 uF\n",
      "\n",
      "Calculations based on V_in = 16.536 V, I_in = 15.000 mA, V_Z = 10\n",
      "R1 = 435.733 Ohms\n",
      "R_TH = 455.341 Ohms\n",
      "C = 19.509 F\n"
     ]
    }
   ],
   "source": [
    "# Choosing R1 and C values from current calculations\n",
    "\n",
    "# Constants\n",
    "R_L = 1000  # [Ohms]\n",
    "f = 60      # [Hz]\n",
    "T = 1 / f   # [s]\n",
    "V_D = 0.8   # [V] voltage of diodes in the wheatstone bridge\n",
    "\n",
    "# Conditions for voltage of Zener diode at I_ZK = 5 mA\n",
    "V_Z = 10\n",
    "V_Z_min = 9.4\n",
    "V_Z_max = 10.6\n",
    "\n",
    "# Zener Diode Currents\n",
    "I_Z0 = 5 * 10 ** -3             # Ideal given operating current:   5 mA\n",
    "I_ZT2 = 1 * 10 ** -3            # Minimum given operating current: 1 mA \n",
    "I_ZT3 = 20 * 10 ** -3           # Maximum given operating current: 20 mA\n",
    "deltaI = abs(I_Z0 - I_ZT2)      # Calculated deviation with s.f. +- 4 mA from ideal \n",
    "I_Z_Min = I_ZT2                 # Minimum calculated IZ current = 1 mA\n",
    "I_Z_Max = I_Z0 + deltaI         # Maximum calculated w s.f. IZ = 9 mA\n",
    "\n",
    "# Current Calculations\n",
    "I_L = V_Z / R_L         # 10 mA\n",
    "I_Z_ideal = I_Z0        # 5 mA\n",
    "I_in = I_Z_ideal + I_L  # 15 mA\n",
    "\n",
    "# Conditions for V_in [V]\n",
    "V_in_pk = 15.4                   # V_in_pk: 15.4 V\n",
    "delta_V_in = 1.136               # Calculated deviation deltaV_in: 1.136 V\n",
    "V_in_max = 15.4 + delta_V_in     # V_in_max: 16.536 V\n",
    "V_in_min = 15.4 - delta_V_in     # V_in_min: 14.234 V\n",
    "\n",
    "R_Z = 20  # r_z = 20 Ohms @ I_Z = 5 mA\n",
    "\n",
    "def calculate_R1(V_in, V_Z, I_in):\n",
    "    return (V_in - V_Z) / I_in\n",
    "\n",
    "def calculate_R_TH(R1, R_Z):\n",
    "    return R1 + ((R_Z * R_L) / (R_Z + R_L))\n",
    "\n",
    "# Method 1 from lab handout\n",
    "def calculate_C_method1(R1):\n",
    "    return (V_in_pk - 2*V_D - V_Z) / (240 * R1 * delta_V_in)\n",
    "\n",
    "# Method 2 from lab handout\n",
    "def calculate_C_from_integration(R_TH, R1):\n",
    "    term1 = -1 / (120 * R_TH)\n",
    "    term2 = 1 / np.log(1 - (((2 * delta_V_in) / (V_in_pk - 2*V_D - V_Z)) * (R1 / R_TH)))\n",
    "    return term1 * term2\n",
    "\n",
    "# Calculate R1, R_TH, C based V_in_min = 14.234 V, V_Z = 10 V, I_in = 15 mA\n",
    "R1_small = calculate_R1(V_in_min, V_Z, I_in)\n",
    "R_TH_small = calculate_R_TH(R1_small, R_Z)\n",
    "C_1 = calculate_C_from_integration(R1_small, R_TH_small)\n",
    "C_11 = calculate_C_method1(R1_small)\n",
    "\n",
    "def I_C(t):\n",
    "    return (V_in_pk - 2*V_D - V_Z) / R1_small * np.exp(-t / (R_TH_small * C_1))\n",
    "\n",
    "# Calculate the definite integral of I_C(t) from 0 to 1/120 seconds\n",
    "delta_Q, error = quad(I_C, 0, 1/120)\n",
    "C_test = delta_Q / (2 * delta_V_in)\n",
    "print(f\"Calculations based on V_in = {V_in_min:0.3f} V, I_in = {I_in*10**3:0.2f} mA, V_Z = {V_Z}\")\n",
    "print(f\"R1 = {R1_small:0.3f} Ohms\\nR_TH = {R_TH_small:0.3f} Ohms\\n\")\n",
    "print(f\"Method 1: C = {C_11*10**6:.3f} uF\")\n",
    "print(f\"Method 2 (my integral calcualtions): C = {C_1*10**6:.3f} uF\")\n",
    "print(f\"Method 3: Calculting C from scipy C = {C_test*10**6:.3f} uF\")\n",
    "\n",
    "# Calculate R1, R_TH, C based on V_in_max = 16.536 V, V_Z = 10 V, I_in = 15 mA\n",
    "R1_large = calculate_R1(V_in_max, V_Z, I_in)\n",
    "R_TH_large = calculate_R_TH(R1_large, R_Z)\n",
    "C_2 = calculate_C_from_integration(R1_large, R_TH_large)\n",
    "print(f\"\\nCalculations based on V_in = {V_in_max:0.3f} V, I_in = {I_in*10**3:0.3f} mA, V_Z = {V_Z}\")\n",
    "print(f\"R1 = {R1_large:0.3f} Ohms\\nR_TH = {R_TH_large:0.3f} Ohms\\nC = {C_2*10**6:0.3f} F\")\n"
   ]
  },
  {
   "cell_type": "code",
   "execution_count": 61,
   "metadata": {},
   "outputs": [
    {
     "name": "stdout",
     "output_type": "stream",
     "text": [
      "-0.0005953536495210839\n"
     ]
    }
   ],
   "source": [
    "# Requirement Verifications for Currents\n",
    "# Current across the Zener diode must be in range 1 mA < 9 mA when load resistor is connected\n",
    "\n",
    "def calculate_current_across_capacitor(V_in_pk, V_D, V_Z, R1, tau, t):\n",
    "    return ((V_in_pk - (2 * V_D) - V_Z) / R1) * np.exp(-t / tau)\n",
    "    \n",
    "# Using trapezoid method as approximation to calculate V_C(t) from I_C(t)\n",
    "def calculate_voltage_across_capacitor(I_C, C, t):\n",
    "    Q_cumulative = np.zeros(len(t))\n",
    "    V_C = np.zeros(len(t))\n",
    "\n",
    "    for i in range(1, len(t)):\n",
    "        delta_t = t[i] - t[i - 1]\n",
    "        avg_I = (I_C[i] - I_C[i - 1]) / 2\n",
    "        delta_Q = avg_I * delta_t\n",
    "        Q_cumulative[i] = Q_cumulative[i - 1] + delta_Q\n",
    "\n",
    "    return Q_cumulative / C\n",
    "\n",
    "# Calculate I_C(t), V_C(t) by calling function above\n",
    "t = np.linspace(0, 1/120, 1000)  # Create array of 50 points from 0 to t = 1/120 s\n",
    "tau1 = R_TH_large * C_1\n",
    "tau2 = R_TH_small * C_2\n",
    "exponent_1 = -t / (tau1)\n",
    "exponent_2 = -t / (tau2)\n",
    "I_C_1 = calculate_current_across_capacitor(V_in_pk, V_D, V_Z, R1_large, tau1, t)\n",
    "I_C_2 = calculate_current_across_capacitor(V_in_pk, V_D, V_Z, R1_small, tau2, t)\n",
    "V_C_1 = calculate_voltage_across_capacitor(I_C_1, C_1, t)\n",
    "V_C_2 = calculate_voltage_across_capacitor(I_C_2, C_2, t)\n",
    "\n",
    "print(V_C_1[len(V_C_1) - 1])"
   ]
  },
  {
   "cell_type": "code",
   "execution_count": null,
   "metadata": {},
   "outputs": [],
   "source": [
    "# Calculating Percent Errors from Simulated Values\n",
    "\n",
    "# With R_L connected\n",
    "V_out_avg = 10.0018       # [V]\n",
    "V_out_pk2pk = 0.157164    # [V]\n",
    "P_avg_zener = 0.0107589   # [W]\n",
    "P_max_zener = 0.0166981   # [W]\n",
    "\n",
    "# With R_L disconnected\n",
    "V_out_avg_no_RL = 10.3087      # [V]\n",
    "V_out_pk2pk_no_RL = 0.0197239  # [V]\n",
    "P_avg_zener_no_RL = 0.107871   # [W]\n",
    "P_max_zener_no_RL = 0.115496   # [W]"
   ]
  }
 ],
 "metadata": {
  "kernelspec": {
   "display_name": "JW_VENV",
   "language": "python",
   "name": "python3"
  },
  "language_info": {
   "codemirror_mode": {
    "name": "ipython",
    "version": 3
   },
   "file_extension": ".py",
   "mimetype": "text/x-python",
   "name": "python",
   "nbconvert_exporter": "python",
   "pygments_lexer": "ipython3",
   "version": "3.11.5"
  }
 },
 "nbformat": 4,
 "nbformat_minor": 2
}
