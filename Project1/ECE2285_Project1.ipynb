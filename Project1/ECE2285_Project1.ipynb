{
 "cells": [
  {
   "cell_type": "code",
   "execution_count": 2,
   "metadata": {},
   "outputs": [],
   "source": [
    "# Zener Diode Voltage Regulator\n",
    "\n",
    "from scipy.integrate import quad\n",
    "import matplotlib.pyplot as plt\n",
    "import numpy as np\n"
   ]
  },
  {
   "cell_type": "markdown",
   "metadata": {},
   "source": [
    "<h2>When the Load Resistor R_L Disconnected</h2>\n",
    "\n",
    "<h3>Current Calculations</h3>\n",
    "<ul>\n",
    "    <li><p>When the load resistor is connected, the current through the load resistor should remain 10 mA,\n",
    "    and the current through the Zener diode should ideally be 5 mA, but can conduct at a current as low as 1 mA and as high as 9 mA.</p></li>\n",
    "    <li><p>When the load resistor is not connected, the 10 mA that would otherwise flow through the load resistor would increase the current through\n",
    "    the Zener diode by 10 mA. Therefore, the maximum current through the Zener diode when the load resistor is not connected is 19 mA.</p></li>\n",
    "    <li><p>A maximum current through the Zener diode of 19 mA is still less than the maximum specified in the data sheet of 20 mA.</p></li>\n",
    "</ul>\n",
    "<h3>Power Calculations</h3>\n",
    "<ul>\n",
    "    <li><p>Moreover, if the current through the Zener diode is 19 mA, the power dissipated by the Zener diode would then be calculated as P_max = I * V.</p></li>\n",
    "    <li><p>P_max = 19 mA * 10 V = 190 mW. 190 mW is less than the maximum specfified power of 250 mW.</p></li>\n",
    "</ul>"
   ]
  },
  {
   "cell_type": "code",
   "execution_count": 66,
   "metadata": {},
   "outputs": [
    {
     "name": "stdout",
     "output_type": "stream",
     "text": [
      "Calculations based on V_in = 14.264 V, I_in = 15.00 mA, V_Z = 10\n",
      "R1 = 284.267 Ohms\n",
      "R_TH = 303.875 Ohms\n",
      "\n",
      "Method 1: C = 49.031 uF\n",
      "Method 2 (my integral calcualtions): C = 28.761 uF\n",
      "Method 3: Calculting C from scipy C = 31.605 uF\n",
      "\n",
      "Calculations based on V_in = 16.536 V, I_in = 15.000 mA, V_Z = 10\n",
      "R1 = 435.733 Ohms\n",
      "R_TH = 455.341 Ohms\n",
      "C = 19.509 F\n"
     ]
    }
   ],
   "source": [
    "# Choosing R1 and C values from current calculations\n",
    "\n",
    "# Constants\n",
    "R_L = 1000  # [Ohms]\n",
    "f = 60      # [Hz]\n",
    "T = 1 / f   # [s]\n",
    "V_D = 0.8   # [V] voltage of diodes in the wheatstone bridge\n",
    "\n",
    "# Conditions for voltage of Zener diode at I_ZK = 5 mA\n",
    "V_Z = 10\n",
    "V_Z_min = 9.4\n",
    "V_Z_max = 10.6\n",
    "\n",
    "# Zener Diode Currents\n",
    "I_Z0 = 5 * 10 ** -3             # Ideal given operating current:   5 mA\n",
    "I_ZT2 = 1 * 10 ** -3            # Minimum given operating current: 1 mA \n",
    "I_ZT3 = 20 * 10 ** -3           # Maximum given operating current: 20 mA\n",
    "deltaI = abs(I_Z0 - I_ZT2)      # Calculated deviation with s.f. +- 4 mA from ideal \n",
    "I_Z_Min = I_ZT2                 # Minimum calculated IZ current = 1 mA\n",
    "I_Z_Max = I_Z0 + deltaI         # Maximum calculated w s.f. IZ = 9 mA\n",
    "\n",
    "# Current Calculations\n",
    "I_L = V_Z / R_L         # 10 mA\n",
    "I_Z_ideal = I_Z0        # 5 mA\n",
    "I_in = I_Z_ideal + I_L  # 15 mA\n",
    "\n",
    "# Conditions for V_in [V]\n",
    "V_in_pk = 15.4                   # V_in_pk: 15.4 V\n",
    "delta_V_in = 1.136               # Calculated deviation deltaV_in: 1.136 V\n",
    "V_in_max = 15.4 + delta_V_in     # V_in_max: 16.536 V\n",
    "V_in_min = 15.4 - delta_V_in     # V_in_min: 14.234 V\n",
    "\n",
    "R_Z = 20  # r_z = 20 Ohms @ I_Z = 5 mA\n",
    "\n",
    "def calculate_R1(V_in, V_Z, I_in):\n",
    "    return (V_in - V_Z) / I_in\n",
    "\n",
    "def calculate_R_TH(R1, R_Z):\n",
    "    return R1 + ((R_Z * R_L) / (R_Z + R_L))\n",
    "\n"
   ]
  },
  {
   "cell_type": "code",
   "execution_count": 15,
   "metadata": {},
   "outputs": [
    {
     "name": "stdout",
     "output_type": "stream",
     "text": [
      "Values with R_L connected:\n",
      "P_Max_zener = 250.00 mW\n",
      "P_Max_Measured = 16.70 mW\n",
      "\n",
      "The average voltage for the zener diode (and the load resistor) should be: 10 V.\n",
      "The average measured voltage across the zener diode (and load resistor) was measured to be: 10.0018 V.\n",
      "Yielding a percent error of: 0.018%\n"
     ]
    }
   ],
   "source": [
    "# Calculating Percent Errors from Simulated Values\n",
    "\n",
    "def calculate_percent_error(expected, actual):\n",
    "    return np.abs(((actual - expected) / expected) * 100)\n",
    "\n",
    "expected_V_out_avg = 10.0\n",
    "measured_V_out_avg_with_RL = 10.0018\n",
    "measured_V_out_avg_no_RL = 10.3087  \n",
    "percent_error_with_RL = calculate_percent_error(expected_V_out_avg, measured_V_out_avg_with_RL)\n",
    "percent_error_no_RL = calculate_percent_error(expected_V_out_avg, measured_V_out_avg_no_RL)\n",
    "\n",
    "table_headers = np.array([\"Description\", \"Expected Value (V)\", \"Measured Value (V)\", \"Percent Error (%)\"])\n",
    "table_data_with_RL = np.array([\"V_out with R_L\", expected_V_out_avg, measured_V_out_avg_with_RL, f\"{percent_error_with_RL:.2f}\"])\n",
    "table_data_no_RL = np.array([\"V_out without R_L\", expected_V_out_avg, measured_V_out_avg_no_RL, f\"{percent_error_no_RL:.2f}\"])\n",
    "\n",
    "power_table_data = np.array([f\"Max Power Theoretical = {}(mW)\", \"Max Power Measured\"])\n",
    "\n",
    "final_table = np.vstack([table_headers, table_data_with_RL, table_data_no_RL])\n",
    "\n",
    "for row in final_table:\n",
    "    print(\"{: <40} {: <20} {: <20} {: <20}\".format(*row))\n",
    "\n"
   ]
  },
  {
   "cell_type": "code",
   "execution_count": null,
   "metadata": {},
   "outputs": [],
   "source": []
  }
 ],
 "metadata": {
  "kernelspec": {
   "display_name": "JW_VENV",
   "language": "python",
   "name": "python3"
  },
  "language_info": {
   "codemirror_mode": {
    "name": "ipython",
    "version": 3
   },
   "file_extension": ".py",
   "mimetype": "text/x-python",
   "name": "python",
   "nbconvert_exporter": "python",
   "pygments_lexer": "ipython3",
   "version": "3.11.5"
  }
 },
 "nbformat": 4,
 "nbformat_minor": 2
}
