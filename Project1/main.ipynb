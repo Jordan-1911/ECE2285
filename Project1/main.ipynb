{
 "cells": [
  {
   "cell_type": "code",
   "execution_count": 1,
   "metadata": {},
   "outputs": [],
   "source": [
    "import math\n",
    "import matplotlib.pyplot as plt\n",
    "import numpy as np\n",
    "\n",
    "# Conditions for voltage of Zener diode at I_ZK\n",
    "V_z = 10\n",
    "V_z_min = 9.4\n",
    "V_z_max = 10.6\n",
    "\n",
    "# Conditions for V_in [V]\n",
    "deltaV_in = 1.136\n",
    "V_in_mid = 15.4\n",
    "V_in_max = 15.4 + deltaV_in\n",
    "V_in_min = 15.4 - deltaV_in\n",
    "\n",
    "# Frequency [Hz]\n",
    "f = 60\n",
    "T = 1 / f\n",
    "\n",
    "I_ZT1 = 5 * 10 ** -3            # [A]\n",
    "I_ZT2 = 1 * 10 ** -3            # [A]\n",
    "I_ZT3 = 20 * 10 ** -3           # [A]\n",
    "deltaI = abs(I_ZT1 - I_ZT2)     # []\n",
    "\n",
    "I_Z_Min = I_ZT1              # min IZ = 1 mA\n",
    "I_Z_Max = I_ZT1 + deltaI     # max IZ = 9 mA\n",
    "\n",
    "v_values = np.linspace(-1.2 * V_z, 5, 1000)"
   ]
  }
 ],
 "metadata": {
  "kernelspec": {
   "display_name": "JW_VENV",
   "language": "python",
   "name": "python3"
  },
  "language_info": {
   "codemirror_mode": {
    "name": "ipython",
    "version": 3
   },
   "file_extension": ".py",
   "mimetype": "text/x-python",
   "name": "python",
   "nbconvert_exporter": "python",
   "pygments_lexer": "ipython3",
   "version": "3.11.5"
  }
 },
 "nbformat": 4,
 "nbformat_minor": 2
}
