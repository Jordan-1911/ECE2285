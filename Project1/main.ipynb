{
 "cells": [
  {
   "cell_type": "code",
   "execution_count": 2,
   "metadata": {},
   "outputs": [],
   "source": [
    "import math\n",
    "import matplotlib.pyplot as plt\n",
    "import numpy as np\n",
    "\n",
    "# Conditions for voltage of Zener diode at I_ZK = 5 mA\n",
    "V_z = 10\n",
    "V_z_min = 9.4\n",
    "V_z_max = 10.6\n",
    "\n",
    "# Conditions for V_in [V]\n",
    "deltaV_in = 1.136               # Calculated deviation from V_in: 1.136 V\n",
    "V_in_mid = 15.4                 # V_in_pk: 15.4 V\n",
    "V_in_max = 15.4 + deltaV_in     # V_in_max: 16.536 V\n",
    "V_in_min = 15.4 - deltaV_in     # V_in_min: 14.234 V\n",
    "\n",
    "# Frequency [Hz]\n",
    "f = 60\n",
    "T = 1 / f\n",
    "\n",
    "# Zener Diode Currents\n",
    "I_Z0 = 5 * 10 ** -3             # Ideal given operating current:   5 mA\n",
    "I_ZT2 = 1 * 10 ** -3            # Minimum given operating current: 1 mA \n",
    "I_ZT3 = 20 * 10 ** -3           # Maximum given operating current: 20 mA\n",
    "deltaI = abs(I_Z0 - I_ZT2)      # Calculated deviation with s.f. +- 4 mA from ideal \n",
    "I_Z_Min = I_ZT2                 # Minimum calculated IZ current = 1 mA\n",
    "I_Z_Max = I_Z0 + deltaI         # Maximum calculated w s.f. IZ = 9 mA\n",
    "\n",
    "v_values = np.linspace(-1.2 * V_z, 5, 1000)"
   ]
  },
  {
   "cell_type": "markdown",
   "metadata": {},
   "source": [
    "<h1>Calculations with the Load Resistor R_L Connected</h1>"
   ]
  },
  {
   "cell_type": "code",
   "execution_count": null,
   "metadata": {},
   "outputs": [],
   "source": [
    "# With Load Resistor RL connected\n",
    "# When the load resistor is connected, I_RL should remain 10 mA to maintain a voltage of 10 V across RL where RL = 1 kOhms\n",
    "\n",
    "# Constants\n",
    "R_L = 1000      # [Ohms]\n",
    "\n",
    "# Current In [A]"
   ]
  },
  {
   "cell_type": "code",
   "execution_count": null,
   "metadata": {},
   "outputs": [],
   "source": [
    "# With Load Resistor RL disconnected"
   ]
  }
 ],
 "metadata": {
  "kernelspec": {
   "display_name": "JW_VENV",
   "language": "python",
   "name": "python3"
  },
  "language_info": {
   "codemirror_mode": {
    "name": "ipython",
    "version": 3
   },
   "file_extension": ".py",
   "mimetype": "text/x-python",
   "name": "python",
   "nbconvert_exporter": "python",
   "pygments_lexer": "ipython3",
   "version": "3.11.5"
  }
 },
 "nbformat": 4,
 "nbformat_minor": 2
}
