{
 "cells": [
  {
   "cell_type": "code",
   "execution_count": 2,
   "metadata": {},
   "outputs": [
    {
     "name": "stdout",
     "output_type": "stream",
     "text": [
      "P_Z_Max = 43.17807138631435 at I_Z_Max = 0.021481627555380273\n"
     ]
    }
   ],
   "source": [
    "# Constants\n",
    "V_z = 10            # [V]\n",
    "r_z = 20            # [Ohms]\n",
    "R1 = 304.26         # [Ohms]\n",
    "delta_V_in = 1.136  # [V]\n",
    "delta_I_z = delta_V_in / R1\n",
    "\n",
    "I_z_max = (16.536 - 10) / R1\n",
    "\n",
    "P_z_max = I_z_max * V_z + ((I_z_max * 10 ** 2) * r_z)\n",
    "\n",
    "print(f\"P_Z_Max = {P_z_max} at I_Z_Max = {I_z_max}\")"
   ]
  }
 ],
 "metadata": {
  "kernelspec": {
   "display_name": "JW_VENV",
   "language": "python",
   "name": "python3"
  },
  "language_info": {
   "codemirror_mode": {
    "name": "ipython",
    "version": 3
   },
   "file_extension": ".py",
   "mimetype": "text/x-python",
   "name": "python",
   "nbconvert_exporter": "python",
   "pygments_lexer": "ipython3",
   "version": "3.11.5"
  }
 },
 "nbformat": 4,
 "nbformat_minor": 2
}
